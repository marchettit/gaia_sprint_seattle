{
 "cells": [
  {
   "cell_type": "code",
   "execution_count": 2,
   "metadata": {
    "collapsed": false
   },
   "outputs": [
    {
     "name": "stdout",
     "output_type": "stream",
     "text": [
      "Created TAP+ (v1.0.1) - Connection:\n",
      "\tHost: gea.esac.esa.int\n",
      "\tUse HTTPS: False\n",
      "\tPort: 80\n",
      "\tSSL Port: 443\n"
     ]
    }
   ],
   "source": [
    "import numpy as np\n",
    "import matplotlib.pyplot as plt\n",
    "\n",
    "import astropy.units as u\n",
    "import astropy.coordinates as coord\n",
    "from astropy.table import Table\n",
    "\n",
    "from astroquery.gaia import Gaia\n",
    "\n",
    "import gala.dynamics as gd\n",
    "import gala.integrate as gi\n",
    "import gala.potential as gp\n",
    "from gala.units import galactic\n",
    "\n",
    "import sys\n",
    "\n",
    "import time"
   ]
  },
  {
   "cell_type": "code",
   "execution_count": 3,
   "metadata": {
    "collapsed": true
   },
   "outputs": [],
   "source": [
    "def sample_initial_conditions(ra, de, varpi, e_varpi, pmra, e_pmra, pmde, e_pmde, corr_pmra_pmde, corr_varpi_pmra, corr_varpi_pmde, vrad, e_vrad, N_sample):\n",
    "\n",
    "    ra_list = np.ones(N_sample) * ra # [deg]\n",
    "    de_list = np.ones(N_sample) * de # [deg]\n",
    "\n",
    "    # Mean vector\n",
    "    mean = [ pmra, pmde, varpi ]\n",
    "\n",
    "    # =========== Covariance Matrix ============ #\n",
    "    cov_1 = [e_pmra**2., e_pmra * e_pmde * corr_pmra_pmde, e_pmra * e_varpi * corr_varpi_pmra]\n",
    "    cov_2 = [e_pmra * e_pmde * corr_pmra_pmde, e_pmde**2., e_pmde * e_varpi * corr_varpi_pmde]\n",
    "    cov_3 = [e_pmra * e_varpi * corr_varpi_pmra, e_pmde * e_varpi * corr_varpi_pmde, e_varpi**2.]\n",
    "    cov = [ cov_1, cov_2, cov_3 ]\n",
    "\n",
    "    # Drawing proper motions and parallaxes from a trivariate Gaussian distribution:\n",
    "    pmra_list, pmde_list, varpi_list = np.random.multivariate_normal(mean, cov, N_sample).T # [mas/yr], [mas/yr], [mas]\n",
    "\n",
    "    # Distance = 1 / parallax for these stars\n",
    "    dist_list = 1. / (varpi_list/1.e3)  # distances, [pc]\n",
    "\n",
    "    # Drawing radial velocities from a Gaussian distribution:\n",
    "    vrad_list = np.random.normal( vrad, e_vrad, N_sample) # [km/s]\n",
    "\n",
    "    return ra_list * u.deg, de_list * u.deg, pmra_list * u.mas/u.yr, pmde_list * u.mas/u.yr, dist_list * u.pc, vrad_list * u.km/u.s\n",
    "\n",
    "def get_median_errors(x):\n",
    "\n",
    "    median = np.median(x)\n",
    "    lower_error = median - np.percentile(x, 16)\n",
    "    upper_error = np.percentile(x, 84) - median\n",
    "\n",
    "    return median, lower_error, upper_error"
   ]
  },
  {
   "cell_type": "markdown",
   "metadata": {},
   "source": [
    "### Solar Motion Parameters"
   ]
  },
  {
   "cell_type": "code",
   "execution_count": 4,
   "metadata": {
    "collapsed": true
   },
   "outputs": [],
   "source": [
    "vSun = [14.0, 12.24, 7.25] * u.km / u.s # (U, V, W) Schonrich+12\n",
    "vrot = [0., 238., 0.] * u.km / u.s # Circular rotation velocity at Sun Position, Bland-hawthorn & Gerhard 2016\n",
    "\n",
    "RSun = 8.2 * u.kpc # Bland-hawthorn & Gerhard 2016\n",
    "zSun = 25. * u.pc  # Bland-hawthorn & Gerhard 2016\n",
    "\n",
    "v_sun = coord.CartesianDifferential(vSun + vrot)\n",
    "gc = coord.Galactocentric(galcen_distance=RSun, z_sun=zSun, galcen_v_sun=v_sun)"
   ]
  },
  {
   "cell_type": "markdown",
   "metadata": {},
   "source": [
    "### M31 (Andromeda) Parameters"
   ]
  },
  {
   "cell_type": "code",
   "execution_count": 5,
   "metadata": {
    "collapsed": true
   },
   "outputs": [],
   "source": [
    "ra_A = 10.6847083 * u.deg\n",
    "dec_A = 41.2687500 * u.deg\n",
    "\n",
    "dist_A = 778. * u.kpc\n",
    "\n",
    "icrs_A = coord.ICRS(ra=ra_A, dec=dec_A, distance=dist_A)\n",
    "gc_A = icrs_A.transform_to(gc)\n",
    "\n",
    "x_A = gc_A.x\n",
    "y_A = gc_A.y\n",
    "z_A = gc_A.z"
   ]
  },
  {
   "cell_type": "markdown",
   "metadata": {},
   "source": [
    "### Querying the Gaia Archive"
   ]
  },
  {
   "cell_type": "code",
   "execution_count": 7,
   "metadata": {
    "collapsed": false
   },
   "outputs": [],
   "source": [
    "source_id = '1552278116525348096'\n",
    "\n",
    "job = Gaia.launch_job(\"SELECT * FROM gaiadr2.gaia_source WHERE source_id = \" + source_id)\n",
    "res = job.get_results()\n",
    "\n",
    "ra = res['ra'][0] * u.deg\n",
    "dec = res['dec'][0] * u.deg\n",
    "parallax = res['parallax'][0] * u.mas\n",
    "e_parallax = res['parallax_error'][0] * u.mas\n",
    "pmra = res['pmra'][0] * u.mas/u.yr\n",
    "e_pmra = res['pmra_error'][0] * u.mas/u.yr\n",
    "pmdec = res['pmdec'][0] * u.mas/u.yr\n",
    "e_pmdec = res['pmdec_error'][0] * u.mas/u.yr\n",
    "vrad = res['radial_velocity'][0] * u.km/u.s\n",
    "e_vrad = res['radial_velocity_error'][0] * u.km/u.s\n",
    "\n",
    "corr_pmra_pmdec = res['pmra_pmdec_corr'][0]\n",
    "corr_parallax_pmra = res['parallax_pmra_corr'][0]\n",
    "corr_parallax_pmdec = res['parallax_pmdec_corr'][0]"
   ]
  },
  {
   "cell_type": "code",
   "execution_count": 8,
   "metadata": {
    "collapsed": true
   },
   "outputs": [],
   "source": [
    "#vrad = -185.124 * u.km/u.s\n",
    "#e_vrad = 1.7377 * u.km/u.s"
   ]
  },
  {
   "cell_type": "code",
   "execution_count": 9,
   "metadata": {
    "collapsed": false
   },
   "outputs": [],
   "source": [
    "# Monte Carlo Sampling for the Initial conditions:\n",
    "\n",
    "N_sample = 200\n",
    "\n",
    "ra_list, de_list, pmra_list, pmdec_list, dist_list, vrad_list = sample_initial_conditions(ra.value, dec.value, parallax.value, e_parallax.value, pmra.value, e_pmra.value, pmdec.value, e_pmdec.value, corr_pmra_pmdec, corr_parallax_pmra, corr_parallax_pmdec, vrad.value, e_vrad.value, N_sample)\n",
    "\n",
    "icrs_samples = coord.ICRS(ra=ra_list, dec=de_list, distance=dist_list, pm_ra_cosdec=pmra_list, pm_dec=pmdec_list, radial_velocity=vrad_list)\n",
    "gc_samples = icrs_samples.transform_to(gc)"
   ]
  },
  {
   "cell_type": "markdown",
   "metadata": {},
   "source": [
    "### Defining a Galactic Potential:"
   ]
  },
  {
   "cell_type": "code",
   "execution_count": 10,
   "metadata": {
    "collapsed": false
   },
   "outputs": [],
   "source": [
    "MWpotential = gp.MilkyWayPotential()\n",
    "\n",
    "BH = gp.KeplerPotential(m=4.3e6 * u.solMass, units=galactic)\n",
    "\n",
    "potential = MWpotential + BH"
   ]
  },
  {
   "cell_type": "markdown",
   "metadata": {},
   "source": [
    "### Integrating the orbits in the Galactic Potential:"
   ]
  },
  {
   "cell_type": "code",
   "execution_count": 11,
   "metadata": {
    "collapsed": true
   },
   "outputs": [],
   "source": [
    "w0_samples = gd.PhaseSpacePosition(gc_samples.data)\n",
    "orbit_samples = gp.Hamiltonian(potential).integrate_orbit(w0_samples, dt=-1*u.Myr, n_steps=1000) # 1 Gyr back in time"
   ]
  },
  {
   "cell_type": "markdown",
   "metadata": {},
   "source": [
    "### Orbital Analysis"
   ]
  },
  {
   "cell_type": "code",
   "execution_count": 13,
   "metadata": {
    "collapsed": false,
    "scrolled": false
   },
   "outputs": [
    {
     "data": {
      "image/png": "[encoded data removed]",
      "text/plain": [
       "<matplotlib.figure.Figure at 0x7fd7d9f04710>"
      ]
     },
     "metadata": {},
     "output_type": "display_data"
    }
   ],
   "source": [
    "Xmins=np.array([])\n",
    "Ymins=np.array([])\n",
    "rmins=np.array([])\n",
    "\n",
    "f, (ax1, ax2) = plt.subplots(1, 2, figsize=(10,5))\n",
    "\n",
    "circle1 = plt.Circle( (0,0), 16, color='red', fill=False)\n",
    "\n",
    "for n in range(N_sample):\n",
    "    \n",
    "    orbit=orbit_samples[:,n]\n",
    "    Xg = orbit.x\n",
    "    Yg = orbit.y\n",
    "    Zg = orbit.z\n",
    "    Rg = np.sqrt( Xg**2. + Yg**2. )\n",
    "    idx_cs = np.where( (np.diff(np.sign(Zg)) != 0) == True) # Check when Zg changes sign\n",
    "    \n",
    "    if np.size(idx_cs) != 0.:\n",
    "        \n",
    "        r_min = np.min(Rg[idx_cs]) # [kpc]\n",
    "        tcs = orbit.t[Rg == r_min]\n",
    "        Xmins = np.append(Xmins, Xg[Rg == r_min])\n",
    "        Ymins = np.append(Ymins, Yg[Rg == r_min])\n",
    "        rmins = np.append(rmins, r_min)\n",
    "        ax1.scatter(Xg[0], Yg[0], color='purple', marker='*', s= 150, alpha=0.1)\n",
    "        ax2.scatter(Xg[0], Zg[0], color='purple', marker='*', s= 150, alpha=0.1)\n",
    "        ax1.plot(Xg[orbit.t >= tcs], Yg[orbit.t >= tcs], lw=0.1, linestyle='-', color='crimson', alpha=0.1)\n",
    "        ax1.plot(Xg[orbit.t < tcs], Yg[orbit.t < tcs], lw=0.1, linestyle='-', color='dodgerblue', alpha=0.1)\n",
    "        ax2.plot(Xg[orbit.t >= tcs], Zg[orbit.t >= tcs], lw=0.1, linestyle='-', color='crimson', alpha=0.1)\n",
    "        ax2.plot(Xg[orbit.t < tcs], Zg[orbit.t < tcs], lw=0.1, linestyle='-', color='dodgerblue', alpha=0.1)\n",
    "        \n",
    "ax1.scatter(0., 0., color='black', s = 100)\n",
    "ax1.scatter(-8.2, 0., color='orange', s = 100)\n",
    "\n",
    "ax2.scatter(0., 0., color='black', s = 100)\n",
    "ax2.scatter(-8.2, 0.025, color='orange', s = 100)\n",
    "\n",
    "ax1.add_artist(circle1)\n",
    "\n",
    "ax1.scatter(x_A, y_A, color='green', s = 100)\n",
    "ax2.scatter(x_A, z_A, color='green', s = 100)\n",
    "ax1.grid()\n",
    "ax2.grid()\n",
    "ax1.set_xlim(-10, 10)\n",
    "ax1.set_ylim(-10, 10)\n",
    "ax2.set_xlim(-10, 10)\n",
    "ax2.set_ylim(-10, 10)\n",
    "ax1.set_xlabel(r'$\\mathrm{x_{GC} \\ [kpc]}$', fontsize=17)\n",
    "ax1.set_ylabel(r'$\\mathrm{y_{GC} \\ [kpc]}$', fontsize=17)\n",
    "ax2.set_xlabel(r'$\\mathrm{x_{GC} \\ [kpc]}$', fontsize=17)\n",
    "ax2.set_ylabel(r'$\\mathrm{z_{GC} \\ [kpc]}$', fontsize=17)\n",
    "plt.tight_layout()\n",
    "\n",
    "plt.savefig('/home/tommaso/Scrivania/Gaia_Sprint_Seattle/orbits/' + source_id + '.png')\n",
    "\n",
    "plt.show()"
   ]
  },
  {
   "cell_type": "code",
   "execution_count": null,
   "metadata": {
    "collapsed": true
   },
   "outputs": [],
   "source": []
  }
 ],
 "metadata": {
  "kernelspec": {
   "display_name": "Python 2",
   "language": "python",
   "name": "python2"
  },
  "language_info": {
   "codemirror_mode": {
    "name": "ipython",
    "version": 2
   },
   "file_extension": ".py",
   "mimetype": "text/x-python",
   "name": "python",
   "nbconvert_exporter": "python",
   "pygments_lexer": "ipython2",
   "version": "2.7.6"
  }
 },
 "nbformat": 4,
 "nbformat_minor": 1
}
